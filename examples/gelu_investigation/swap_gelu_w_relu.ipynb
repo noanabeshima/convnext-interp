{
 "cells": [
  {
   "cell_type": "code",
   "execution_count": 70,
   "metadata": {},
   "outputs": [],
   "source": [
    "from convnext import get_convnext\n",
    "from interp_utils import register_hook, remove_hooks\n",
    "from imagenet_val import ValData, simple_labels\n",
    "import torch\n",
    "import torch.nn as nn\n",
    "import torch.nn.functional as F\n",
    "\n",
    "val = ValData()\n",
    "\n",
    "device = 'cuda' if torch.cuda.is_available() else 'cpu'\n",
    "model = get_convnext()\n",
    "model.eval().to(device);"
   ]
  },
  {
   "cell_type": "code",
   "execution_count": 71,
   "metadata": {},
   "outputs": [],
   "source": [
    "def label_smoothing_loss(logits, targets, smoothing=0.1):\n",
    "    logprobs = F.log_softmax(logits, dim=-1)\n",
    "    loss = (1-smoothing)*F.cross_entropy(logits, targets)-smoothing*logprobs.mean()\n",
    "    return loss"
   ]
  },
  {
   "cell_type": "code",
   "execution_count": 89,
   "metadata": {},
   "outputs": [],
   "source": [
    "def gelu_to_relu_layer(model, layer):\n",
    "    remove_hooks(model, quiet=True)\n",
    "    def gelu_to_relu(module, input, output):\n",
    "        output = F.relu(input[0])\n",
    "        return output\n",
    "    handle = register_hook(model.blocks[layer].act, gelu_to_relu)\n",
    "    return handle"
   ]
  },
  {
   "cell_type": "code",
   "execution_count": 96,
   "metadata": {},
   "outputs": [
    {
     "name": "stdout",
     "output_type": "stream",
     "text": [
      "Layer 0\n"
     ]
    },
    {
     "name": "stderr",
     "output_type": "stream",
     "text": [
      "Layer 0 LS: 2.380 CE: 1.639: 100%|██████████| 500/500 [03:27<00:00,  2.41it/s]\n"
     ]
    },
    {
     "name": "stdout",
     "output_type": "stream",
     "text": [
      "Layer 1\n"
     ]
    },
    {
     "name": "stderr",
     "output_type": "stream",
     "text": [
      "Layer 1 LS: 2.508 CE: 1.781: 100%|██████████| 500/500 [03:37<00:00,  2.30it/s]\n"
     ]
    },
    {
     "name": "stdout",
     "output_type": "stream",
     "text": [
      "Layer 2\n"
     ]
    },
    {
     "name": "stderr",
     "output_type": "stream",
     "text": [
      "Layer 2 LS: 2.353 CE: 1.604: 100%|██████████| 500/500 [03:52<00:00,  2.15it/s]\n"
     ]
    },
    {
     "name": "stdout",
     "output_type": "stream",
     "text": [
      "Layer 3\n"
     ]
    },
    {
     "name": "stderr",
     "output_type": "stream",
     "text": [
      "Layer 3 LS: 2.307 CE: 1.552: 100%|██████████| 500/500 [03:51<00:00,  2.16it/s]\n"
     ]
    },
    {
     "name": "stdout",
     "output_type": "stream",
     "text": [
      "Layer 4\n"
     ]
    },
    {
     "name": "stderr",
     "output_type": "stream",
     "text": [
      "Layer 4 LS: 2.250 CE: 1.482: 100%|██████████| 500/500 [03:57<00:00,  2.11it/s]\n"
     ]
    },
    {
     "name": "stdout",
     "output_type": "stream",
     "text": [
      "Layer 5\n"
     ]
    },
    {
     "name": "stderr",
     "output_type": "stream",
     "text": [
      "Layer 5 LS: 2.157 CE: 1.393: 100%|██████████| 500/500 [03:53<00:00,  2.14it/s]\n"
     ]
    },
    {
     "name": "stdout",
     "output_type": "stream",
     "text": [
      "Layer 6\n"
     ]
    },
    {
     "name": "stderr",
     "output_type": "stream",
     "text": [
      "Layer 6 LS: 2.144 CE: 1.382: 100%|██████████| 500/500 [04:07<00:00,  2.02it/s]\n"
     ]
    },
    {
     "name": "stdout",
     "output_type": "stream",
     "text": [
      "Layer 7\n"
     ]
    },
    {
     "name": "stderr",
     "output_type": "stream",
     "text": [
      "Layer 7 LS: 2.117 CE: 1.344: 100%|██████████| 500/500 [04:08<00:00,  2.01it/s]\n"
     ]
    },
    {
     "name": "stdout",
     "output_type": "stream",
     "text": [
      "Layer 8\n"
     ]
    },
    {
     "name": "stderr",
     "output_type": "stream",
     "text": [
      "Layer 8 LS: 2.141 CE: 1.366: 100%|██████████| 500/500 [04:30<00:00,  1.85it/s]\n"
     ]
    },
    {
     "name": "stdout",
     "output_type": "stream",
     "text": [
      "Layer 9\n"
     ]
    },
    {
     "name": "stderr",
     "output_type": "stream",
     "text": [
      "Layer 9 LS: 2.152 CE: 1.392: 100%|██████████| 500/500 [04:03<00:00,  2.05it/s]\n"
     ]
    },
    {
     "name": "stdout",
     "output_type": "stream",
     "text": [
      "Layer 10\n"
     ]
    },
    {
     "name": "stderr",
     "output_type": "stream",
     "text": [
      "Layer 10 LS: 2.118 CE: 1.353: 100%|██████████| 500/500 [03:24<00:00,  2.44it/s]\n"
     ]
    },
    {
     "name": "stdout",
     "output_type": "stream",
     "text": [
      "Layer 11\n"
     ]
    },
    {
     "name": "stderr",
     "output_type": "stream",
     "text": [
      "Layer 11 LS: 2.118 CE: 1.334: 100%|██████████| 500/500 [03:22<00:00,  2.46it/s]\n"
     ]
    },
    {
     "name": "stdout",
     "output_type": "stream",
     "text": [
      "Layer 12\n"
     ]
    },
    {
     "name": "stderr",
     "output_type": "stream",
     "text": [
      "Layer 12 LS: 2.093 CE: 1.309: 100%|██████████| 500/500 [04:08<00:00,  2.01it/s]\n"
     ]
    },
    {
     "name": "stdout",
     "output_type": "stream",
     "text": [
      "Layer 13\n"
     ]
    },
    {
     "name": "stderr",
     "output_type": "stream",
     "text": [
      "Layer 13 LS: 2.100 CE: 1.317: 100%|██████████| 500/500 [03:59<00:00,  2.09it/s]\n"
     ]
    },
    {
     "name": "stdout",
     "output_type": "stream",
     "text": [
      "Layer 14\n"
     ]
    },
    {
     "name": "stderr",
     "output_type": "stream",
     "text": [
      "Layer 14 LS: 2.108 CE: 1.323: 100%|██████████| 500/500 [03:21<00:00,  2.48it/s]\n"
     ]
    },
    {
     "name": "stdout",
     "output_type": "stream",
     "text": [
      "Layer 15\n"
     ]
    },
    {
     "name": "stderr",
     "output_type": "stream",
     "text": [
      "Layer 15 LS: 2.095 CE: 1.312: 100%|██████████| 500/500 [03:22<00:00,  2.47it/s]\n"
     ]
    },
    {
     "name": "stdout",
     "output_type": "stream",
     "text": [
      "Layer 16\n"
     ]
    },
    {
     "name": "stderr",
     "output_type": "stream",
     "text": [
      "Layer 16 LS: 2.095 CE: 1.311: 100%|██████████| 500/500 [03:21<00:00,  2.48it/s]\n"
     ]
    },
    {
     "name": "stdout",
     "output_type": "stream",
     "text": [
      "Layer 17\n"
     ]
    },
    {
     "name": "stderr",
     "output_type": "stream",
     "text": [
      "Layer 17 LS: 2.096 CE: 1.313: 100%|██████████| 500/500 [03:22<00:00,  2.47it/s]\n"
     ]
    }
   ],
   "source": [
    "from tqdm import tqdm\n",
    "\n",
    "BATCH_SIZE = 100\n",
    "\n",
    "ls_losses = torch.zeros(18)\n",
    "ce_losses = torch.zeros(18)\n",
    "\n",
    "for layer_idx in range(18):\n",
    "    print(f\"Layer {layer_idx}\")\n",
    "    handle = gelu_to_relu_layer(model, layer_idx)\n",
    "    val_set_pbar = tqdm(val.as_batches(BATCH_SIZE), total=len(val)//BATCH_SIZE,)\n",
    "    val_set_pbar.set_description(f\"Layer {layer_idx}\")\n",
    "    ls_batch_losses = []\n",
    "    ce_batch_losses = []\n",
    "    for i, batch in enumerate(val_set_pbar):\n",
    "        batch_data = batch.data.to(device)\n",
    "        targets = torch.tensor(batch.class_ids).to(device)\n",
    "        with torch.no_grad():\n",
    "            logits = model(batch_data)\n",
    "            ls_loss = label_smoothing_loss(logits, targets)\n",
    "            ce_loss = F.cross_entropy(logits, targets)\n",
    "        ls_batch_losses.append(ls_loss)\n",
    "        ce_batch_losses.append(ce_loss)\n",
    "        val_set_pbar.set_description(f\"Layer {layer_idx} LS: {ls_loss:.3f} CE: {ce_loss:.3f}\")\n",
    "    ls_losses[layer_idx] = torch.stack(ls_batch_losses).mean()\n",
    "    ce_losses[layer_idx] = torch.stack(ce_batch_losses).mean()\n"
   ]
  },
  {
   "cell_type": "code",
   "execution_count": 98,
   "metadata": {},
   "outputs": [
    {
     "name": "stderr",
     "output_type": "stream",
     "text": [
      "Without ablation. LS: 2.096 CE: 1.312: 100%|██████████| 500/500 [03:23<00:00,  2.45it/s]\n"
     ]
    }
   ],
   "source": [
    "remove_hooks(model)\n",
    "\n",
    "BATCH_SIZE = 100\n",
    "\n",
    "\n",
    "val_set_pbar = tqdm(val.as_batches(BATCH_SIZE), total=len(val)//BATCH_SIZE,)\n",
    "val_set_pbar.set_description(f\"Layer {layer_idx}\")\n",
    "ls_batch_losses = []\n",
    "ce_batch_losses = []\n",
    "for i, batch in enumerate(val_set_pbar):\n",
    "    batch_data = batch.data.to(device)\n",
    "    targets = torch.tensor(batch.class_ids).to(device)\n",
    "    with torch.no_grad():\n",
    "        logits = model(batch_data)\n",
    "        ls_loss = label_smoothing_loss(logits, targets)\n",
    "        ce_loss = F.cross_entropy(logits, targets)\n",
    "    ls_batch_losses.append(ls_loss)\n",
    "    ce_batch_losses.append(ce_loss)\n",
    "    val_set_pbar.set_description(f\"Without ablation | LS: {ls_loss:.3f} CE: {ce_loss:.3f}\")\n",
    "\n",
    "ls_loss = torch.stack(ls_batch_losses).mean()\n",
    "ce_loss = torch.stack(ce_batch_losses).mean()\n"
   ]
  },
  {
   "cell_type": "code",
   "execution_count": 114,
   "metadata": {},
   "outputs": [],
   "source": [
    "data = {}\n",
    "data['ls_losses_by_relud_layer'] = ls_losses.cpu().numpy()\n",
    "data['ce_losses_by_relud_layer'] = ce_losses.cpu().numpy()\n",
    "data['normal_ls_loss'] = ls_loss.cpu().numpy()\n",
    "data['normal_ce_loss'] = ce_loss.cpu().numpy()\n",
    "\n",
    "torch.save(data, 'gelu_to_relu_results.pt')"
   ]
  }
 ],
 "metadata": {
  "kernelspec": {
   "display_name": "convnext",
   "language": "python",
   "name": "python3"
  },
  "language_info": {
   "codemirror_mode": {
    "name": "ipython",
    "version": 3
   },
   "file_extension": ".py",
   "mimetype": "text/x-python",
   "name": "python",
   "nbconvert_exporter": "python",
   "pygments_lexer": "ipython3",
   "version": "3.10.8 (main, Nov 24 2022, 14:13:03) [GCC 11.2.0]"
  },
  "orig_nbformat": 4,
  "vscode": {
   "interpreter": {
    "hash": "a7a2c4aeb9b74da2a832a4741637d5a873d386e60b7d3e14d02ebb7dbe3f4315"
   }
  }
 },
 "nbformat": 4,
 "nbformat_minor": 2
}
