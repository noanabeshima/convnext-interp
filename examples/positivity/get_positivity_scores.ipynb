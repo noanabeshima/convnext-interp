{
 "cells": [
  {
   "cell_type": "code",
   "execution_count": 1,
   "metadata": {},
   "outputs": [
    {
     "name": "stderr",
     "output_type": "stream",
     "text": [
      "/home/noa/.miniconda/envs/convnext/lib/python3.10/site-packages/tqdm/auto.py:22: TqdmWarning: IProgress not found. Please update jupyter and ipywidgets. See https://ipywidgets.readthedocs.io/en/stable/user_install.html\n",
      "  from .autonotebook import tqdm as notebook_tqdm\n"
     ]
    }
   ],
   "source": [
    "from imagenet_val import ValData\n",
    "from interp_utils import *\n",
    "from convnext import get_convnext\n",
    "import torch\n",
    "\n",
    "model = get_convnext()\n",
    "model.eval().cuda()\n",
    "val = ValData()"
   ]
  },
  {
   "cell_type": "code",
   "execution_count": 18,
   "metadata": {},
   "outputs": [
    {
     "name": "stderr",
     "output_type": "stream",
     "text": [
      "100%|██████████| 2500/2500 [04:17<00:00,  9.72it/s]\n"
     ]
    }
   ],
   "source": [
    "from interp_utils import register_hook, caching_hook, remove_hooks\n",
    "from tqdm import tqdm\n",
    "\n",
    "remove_hooks(model, quiet=True)\n",
    "for block in model.blocks:\n",
    "    register_hook(block.act, caching_hook)\n",
    "\n",
    "\n",
    "\n",
    "maxes, mins, means = [], [], []\n",
    "for batch in tqdm(val.as_batches(20), total=len(val)//20):\n",
    "    with torch.no_grad():\n",
    "        data = batch.data.cuda()\n",
    "        model(data)\n",
    "        del data\n",
    "    max_acts = [model.blocks[i].act.cache['input'].max(dim=1).values.max(dim=1).values.T for i in range(len(model.blocks))]\n",
    "    max_acts = torch.stack(max_acts).cpu()\n",
    "    maxes.append(max_acts)\n",
    "\n",
    "    min_acts = [model.blocks[i].act.cache['input'].min(dim=1).values.min(dim=1).values.T for i in range(len(model.blocks))]\n",
    "    min_acts = torch.stack(min_acts).cpu()\n",
    "    mins.append(min_acts)\n",
    "\n",
    "    mean_acts = [model.blocks[i].act.cache['input'].mean(dim=(1,2)).T for i in range(len(model.blocks))]\n",
    "    mean_acts = torch.stack(mean_acts).cpu()\n",
    "    means.append(mean_acts)\n",
    "\n"
   ]
  },
  {
   "cell_type": "code",
   "execution_count": 3,
   "metadata": {},
   "outputs": [],
   "source": [
    "neuron_mins = torch.cat(mins, dim=-1)\n",
    "torch.save(neuron_mins, 'val_set_neuron_mins.pt')\n",
    "\n",
    "neuron_maxes = torch.cat(maxes, dim=-1)\n",
    "torch.save(neuron_maxes, 'val_set_neuron_maxes.pt')\n",
    "\n",
    "neuron_means = torch.cat(means, dim=-1)\n",
    "torch.save(neuron_means, 'val_set_neuron_means.pt')\n",
    "\n",
    "\n",
    "max_positivity = (neuron_maxes > 0.0).float().mean(dim=-1)\n",
    "torch.save(max_positivity, 'max_positivity.pt')\n",
    "\n",
    "min_positivity = (neuron_mins > 0.0).float().mean(dim=-1)\n",
    "torch.save(min_positivity, 'min_positivity.pt')\n",
    "\n",
    "mean_positivity = (neuron_means > 0.0).float().mean(dim=-1)\n",
    "torch.save(mean_positivity, 'mean_positivity.pt')\n"
   ]
  },
  {
   "cell_type": "code",
   "execution_count": null,
   "metadata": {},
   "outputs": [],
   "source": [
    "from interp_utils import TensorHistogramObserver\n",
    "\n",
    "observer = TensorHistogramObserver(min=-10, max=4, bin_width=0.2, tensor_shape=(18, 1536,))\n",
    "neuron_counts = torch.load('../gelu_investigation/neuron_bin_counts.pt')\n",
    "observer.counts = neuron_counts\n",
    "\n",
    "zero_idx = (observer.boundaries < 0.001).nonzero().max()\n",
    "max_count = observer.counts[0].sum(dim=-1).int()\n",
    "pw_positivity = observer.counts[:,:,zero_idx:].sum(dim=-1)/max_count\n",
    "\n",
    "torch.save(pw_positivity, 'pw_positivity.pt')"
   ]
  }
 ],
 "metadata": {
  "kernelspec": {
   "display_name": "convnext",
   "language": "python",
   "name": "python3"
  },
  "language_info": {
   "codemirror_mode": {
    "name": "ipython",
    "version": 3
   },
   "file_extension": ".py",
   "mimetype": "text/x-python",
   "name": "python",
   "nbconvert_exporter": "python",
   "pygments_lexer": "ipython3",
   "version": "3.10.8 (main, Nov 24 2022, 14:13:03) [GCC 11.2.0]"
  },
  "orig_nbformat": 4,
  "vscode": {
   "interpreter": {
    "hash": "a7a2c4aeb9b74da2a832a4741637d5a873d386e60b7d3e14d02ebb7dbe3f4315"
   }
  }
 },
 "nbformat": 4,
 "nbformat_minor": 2
}
