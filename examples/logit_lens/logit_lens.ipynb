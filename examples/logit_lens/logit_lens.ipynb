{
 "cells": [
  {
   "cell_type": "code",
   "execution_count": null,
   "metadata": {},
   "outputs": [],
   "source": [
    "from convnext import get_convnext\n",
    "from interp_utils import heatmap, seriate\n",
    "from imagenet_val import simple_class_labels as class_labels\n",
    "\n",
    "model = get_convnext()"
   ]
  },
  {
   "cell_type": "code",
   "execution_count": null,
   "metadata": {},
   "outputs": [],
   "source": [
    "# get writeout matrix of last layer\n",
    "w_out = model.blocks[17].pwconv2.weight.data.T\n",
    "\n",
    "# unembedding matrix\n",
    "unembed = model.head.weight.data"
   ]
  },
  {
   "cell_type": "code",
   "execution_count": null,
   "metadata": {},
   "outputs": [],
   "source": [
    "# Examine last layer logit lens\n",
    "logit_lens_arr = w_out @ unembed.T\n",
    "heatmap(logit_lens_arr, title='Layer 17 logit lens', dim_names=('neuron', 'logit'), info_1={'class': class_labels}, include_idx=(True, False)).show()\n",
    "\n",
    "# this works too!\n",
    "# heatmap(w_out @ unembed.T)\n",
    "\n",
    "# Notice that there are positive/negative streaks and dots. This is because the class labels are not sorted randomly and the neurons are doing things that are related to the class labels.\n",
    "# For example, the dogs are all grouped together and most objects are grouped together. See if you can see some of the structure by hovering over the heatmap.\n",
    "# Also note that you can zoom in by clicking and dragging."
   ]
  },
  {
   "cell_type": "code",
   "execution_count": null,
   "metadata": {},
   "outputs": [],
   "source": [
    "# Permute neurons so that similar rows are near each other. This might take a little bit to run (takes 20s on my computer).\n",
    "seriated_logit_lens_arr, neuron_perm, logit_perm = seriate(logit_lens_arr)"
   ]
  },
  {
   "cell_type": "code",
   "execution_count": null,
   "metadata": {},
   "outputs": [],
   "source": [
    "# Show the seriated heatmap with permuted neurons and classes\n",
    "# We want to use the permutations as arguments instead of the permuted array so that the neuron index and the class labels are permutated also\n",
    "# Zoom in on some of the clusters! Do they make sense?\n",
    "heatmap(logit_lens_arr, perm_0=neuron_perm, perm_1=logit_perm, title='Layer 17 logit lens (seriated)', dim_names=('neuron', 'logit'), info_1={'class': class_labels}, include_idx=(True, False)).show()"
   ]
  }
 ],
 "metadata": {
  "kernelspec": {
   "display_name": "convnext",
   "language": "python",
   "name": "python3"
  },
  "language_info": {
   "codemirror_mode": {
    "name": "ipython",
    "version": 3
   },
   "file_extension": ".py",
   "mimetype": "text/x-python",
   "name": "python",
   "nbconvert_exporter": "python",
   "pygments_lexer": "ipython3",
   "version": "3.10.8 (main, Nov 24 2022, 14:13:03) [GCC 11.2.0]"
  },
  "orig_nbformat": 4,
  "vscode": {
   "interpreter": {
    "hash": "a7a2c4aeb9b74da2a832a4741637d5a873d386e60b7d3e14d02ebb7dbe3f4315"
   }
  }
 },
 "nbformat": 4,
 "nbformat_minor": 2
}
